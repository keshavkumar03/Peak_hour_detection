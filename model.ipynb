{
 "cells": [
  {
   "cell_type": "markdown",
   "metadata": {},
   "source": [
    "<h2>importing the libaries\n"
   ]
  },
  {
   "cell_type": "code",
   "execution_count": 37,
   "metadata": {},
   "outputs": [],
   "source": [
    "import pandas as pd\n",
    "import numpy as np\n",
    "import tensorflow as tf\n",
    "from tensorflow import keras\n",
    "from tensorflow.keras import layers, regularizers\n",
    "from sklearn.model_selection import train_test_split\n",
    "from sklearn.preprocessing import MinMaxScaler\n",
    "from tensorflow.keras.models import Sequential\n",
    "from tensorflow.keras.layers import Dense\n",
    "import tensorflow.lite as tflite\n",
    "import json\n",
    "from flask import Flask, request, jsonify"
   ]
  },
  {
   "cell_type": "markdown",
   "metadata": {},
   "source": [
    "<h2>Load the dataset"
   ]
  },
  {
   "cell_type": "code",
   "execution_count": 38,
   "metadata": {},
   "outputs": [
    {
     "data": {
      "text/html": [
       "<div>\n",
       "<style scoped>\n",
       "    .dataframe tbody tr th:only-of-type {\n",
       "        vertical-align: middle;\n",
       "    }\n",
       "\n",
       "    .dataframe tbody tr th {\n",
       "        vertical-align: top;\n",
       "    }\n",
       "\n",
       "    .dataframe thead th {\n",
       "        text-align: right;\n",
       "    }\n",
       "</style>\n",
       "<table border=\"1\" class=\"dataframe\">\n",
       "  <thead>\n",
       "    <tr style=\"text-align: right;\">\n",
       "      <th></th>\n",
       "      <th>Timestamp</th>\n",
       "      <th>Voltage (V)</th>\n",
       "      <th>Current (A)</th>\n",
       "      <th>Power Consumption (kW)</th>\n",
       "      <th>Reactive Power (kVAR)</th>\n",
       "      <th>Power Factor</th>\n",
       "      <th>Solar Power (kW)</th>\n",
       "      <th>Wind Power (kW)</th>\n",
       "      <th>Grid Supply (kW)</th>\n",
       "      <th>Voltage Fluctuation (%)</th>\n",
       "      <th>Overload Condition</th>\n",
       "      <th>Transformer Fault</th>\n",
       "      <th>Temperature (°C)</th>\n",
       "      <th>Humidity (%)</th>\n",
       "      <th>Electricity Price (USD/kWh)</th>\n",
       "      <th>Predicted Load (kW)</th>\n",
       "    </tr>\n",
       "  </thead>\n",
       "  <tbody>\n",
       "    <tr>\n",
       "      <th>0</th>\n",
       "      <td>2024-01-01 00:00:00</td>\n",
       "      <td>232.483571</td>\n",
       "      <td>5.124673</td>\n",
       "      <td>1.191402</td>\n",
       "      <td>0.399029</td>\n",
       "      <td>0.907766</td>\n",
       "      <td>46.614845</td>\n",
       "      <td>26.399566</td>\n",
       "      <td>0.0</td>\n",
       "      <td>1.055937</td>\n",
       "      <td>0</td>\n",
       "      <td>0</td>\n",
       "      <td>17.842767</td>\n",
       "      <td>64.523353</td>\n",
       "      <td>0.416156</td>\n",
       "      <td>1.233158</td>\n",
       "    </tr>\n",
       "    <tr>\n",
       "      <th>1</th>\n",
       "      <td>2024-01-01 00:15:00</td>\n",
       "      <td>229.308678</td>\n",
       "      <td>22.213519</td>\n",
       "      <td>5.093753</td>\n",
       "      <td>1.248030</td>\n",
       "      <td>0.831813</td>\n",
       "      <td>6.907170</td>\n",
       "      <td>18.555011</td>\n",
       "      <td>0.0</td>\n",
       "      <td>-3.910902</td>\n",
       "      <td>1</td>\n",
       "      <td>0</td>\n",
       "      <td>18.753698</td>\n",
       "      <td>49.671940</td>\n",
       "      <td>0.492334</td>\n",
       "      <td>5.247824</td>\n",
       "    </tr>\n",
       "    <tr>\n",
       "      <th>2</th>\n",
       "      <td>2024-01-01 00:30:00</td>\n",
       "      <td>233.238443</td>\n",
       "      <td>46.132217</td>\n",
       "      <td>10.759806</td>\n",
       "      <td>2.790464</td>\n",
       "      <td>0.999005</td>\n",
       "      <td>15.477640</td>\n",
       "      <td>12.905025</td>\n",
       "      <td>0.0</td>\n",
       "      <td>-0.197551</td>\n",
       "      <td>0</td>\n",
       "      <td>0</td>\n",
       "      <td>16.719325</td>\n",
       "      <td>48.472769</td>\n",
       "      <td>0.427785</td>\n",
       "      <td>10.580278</td>\n",
       "    </tr>\n",
       "    <tr>\n",
       "      <th>3</th>\n",
       "      <td>2024-01-01 00:45:00</td>\n",
       "      <td>237.615149</td>\n",
       "      <td>47.648972</td>\n",
       "      <td>11.322118</td>\n",
       "      <td>1.956965</td>\n",
       "      <td>0.896462</td>\n",
       "      <td>35.746398</td>\n",
       "      <td>28.937129</td>\n",
       "      <td>0.0</td>\n",
       "      <td>2.671921</td>\n",
       "      <td>0</td>\n",
       "      <td>0</td>\n",
       "      <td>15.364564</td>\n",
       "      <td>75.766776</td>\n",
       "      <td>0.487953</td>\n",
       "      <td>11.225946</td>\n",
       "    </tr>\n",
       "    <tr>\n",
       "      <th>4</th>\n",
       "      <td>2024-01-01 01:00:00</td>\n",
       "      <td>228.829233</td>\n",
       "      <td>7.410166</td>\n",
       "      <td>1.695663</td>\n",
       "      <td>0.624718</td>\n",
       "      <td>0.870681</td>\n",
       "      <td>27.555038</td>\n",
       "      <td>14.184648</td>\n",
       "      <td>0.0</td>\n",
       "      <td>3.826937</td>\n",
       "      <td>0</td>\n",
       "      <td>0</td>\n",
       "      <td>38.760333</td>\n",
       "      <td>61.384213</td>\n",
       "      <td>0.290078</td>\n",
       "      <td>1.696639</td>\n",
       "    </tr>\n",
       "  </tbody>\n",
       "</table>\n",
       "</div>"
      ],
      "text/plain": [
       "             Timestamp  Voltage (V)  Current (A)  Power Consumption (kW)  \\\n",
       "0  2024-01-01 00:00:00   232.483571     5.124673                1.191402   \n",
       "1  2024-01-01 00:15:00   229.308678    22.213519                5.093753   \n",
       "2  2024-01-01 00:30:00   233.238443    46.132217               10.759806   \n",
       "3  2024-01-01 00:45:00   237.615149    47.648972               11.322118   \n",
       "4  2024-01-01 01:00:00   228.829233     7.410166                1.695663   \n",
       "\n",
       "   Reactive Power (kVAR)  Power Factor  Solar Power (kW)  Wind Power (kW)  \\\n",
       "0               0.399029      0.907766         46.614845        26.399566   \n",
       "1               1.248030      0.831813          6.907170        18.555011   \n",
       "2               2.790464      0.999005         15.477640        12.905025   \n",
       "3               1.956965      0.896462         35.746398        28.937129   \n",
       "4               0.624718      0.870681         27.555038        14.184648   \n",
       "\n",
       "   Grid Supply (kW)  Voltage Fluctuation (%)  Overload Condition  \\\n",
       "0               0.0                 1.055937                   0   \n",
       "1               0.0                -3.910902                   1   \n",
       "2               0.0                -0.197551                   0   \n",
       "3               0.0                 2.671921                   0   \n",
       "4               0.0                 3.826937                   0   \n",
       "\n",
       "   Transformer Fault  Temperature (°C)  Humidity (%)  \\\n",
       "0                  0         17.842767     64.523353   \n",
       "1                  0         18.753698     49.671940   \n",
       "2                  0         16.719325     48.472769   \n",
       "3                  0         15.364564     75.766776   \n",
       "4                  0         38.760333     61.384213   \n",
       "\n",
       "   Electricity Price (USD/kWh)  Predicted Load (kW)  \n",
       "0                     0.416156             1.233158  \n",
       "1                     0.492334             5.247824  \n",
       "2                     0.427785            10.580278  \n",
       "3                     0.487953            11.225946  \n",
       "4                     0.290078             1.696639  "
      ]
     },
     "execution_count": 38,
     "metadata": {},
     "output_type": "execute_result"
    }
   ],
   "source": [
    "df = pd.read_csv(\"smart_grid_dataset.csv\").dropna()  # Replace with actual dataset path\n",
    "df.head()"
   ]
  },
  {
   "cell_type": "markdown",
   "metadata": {},
   "source": [
    "<h2>Preprocessing</h2>"
   ]
  },
  {
   "cell_type": "code",
   "execution_count": 39,
   "metadata": {},
   "outputs": [],
   "source": [
    "df['Hour'] = pd.to_datetime(df['Timestamp']).dt.hour  # Extract hour from timestamp\n",
    "df = df[['Voltage (V)', 'Current (A)', 'Power Consumption (kW)', 'Hour']]\n",
    "\n",
    "X = df  # No need to drop anything\n",
    "y = (df['Power Consumption (kW)'] > df['Power Consumption (kW)'].quantile(0.75)).astype(int)  \n",
    "# Peak hour = Top 25% power usage\n",
    "\n",
    "scaler = MinMaxScaler()\n",
    "X_scaled = scaler.fit_transform(X)"
   ]
  },
  {
   "cell_type": "markdown",
   "metadata": {},
   "source": [
    "<h2>test train spilt"
   ]
  },
  {
   "cell_type": "code",
   "execution_count": 40,
   "metadata": {},
   "outputs": [],
   "source": [
    "X_train, X_test, y_train, y_test = train_test_split(X_scaled, y, test_size=0.2, random_state=42)"
   ]
  },
  {
   "cell_type": "markdown",
   "metadata": {},
   "source": [
    "<h2>Train the model"
   ]
  },
  {
   "cell_type": "code",
   "execution_count": 42,
   "metadata": {},
   "outputs": [
    {
     "name": "stdout",
     "output_type": "stream",
     "text": [
      "Epoch 1/50\n",
      "1250/1250 [==============================] - 9s 5ms/step - loss: 0.3127 - accuracy: 0.9296 - val_loss: 0.1631 - val_accuracy: 0.9891\n",
      "Epoch 2/50\n",
      "1250/1250 [==============================] - 5s 4ms/step - loss: 0.1571 - accuracy: 0.9734 - val_loss: 0.1375 - val_accuracy: 0.9758\n",
      "Epoch 3/50\n",
      "1250/1250 [==============================] - 5s 4ms/step - loss: 0.1339 - accuracy: 0.9779 - val_loss: 0.1155 - val_accuracy: 0.9932\n",
      "Epoch 4/50\n",
      "1250/1250 [==============================] - 6s 5ms/step - loss: 0.1198 - accuracy: 0.9813 - val_loss: 0.1045 - val_accuracy: 0.9957\n",
      "Epoch 5/50\n",
      "1250/1250 [==============================] - 5s 4ms/step - loss: 0.1102 - accuracy: 0.9823 - val_loss: 0.0987 - val_accuracy: 0.9885\n",
      "Epoch 6/50\n",
      "1250/1250 [==============================] - 5s 4ms/step - loss: 0.1020 - accuracy: 0.9851 - val_loss: 0.0896 - val_accuracy: 0.9984\n",
      "Epoch 7/50\n",
      "1250/1250 [==============================] - 5s 4ms/step - loss: 0.0954 - accuracy: 0.9852 - val_loss: 0.0842 - val_accuracy: 0.9981\n",
      "Epoch 8/50\n",
      "1250/1250 [==============================] - 5s 4ms/step - loss: 0.0903 - accuracy: 0.9854 - val_loss: 0.0827 - val_accuracy: 0.9887\n",
      "Epoch 9/50\n",
      "1250/1250 [==============================] - 5s 4ms/step - loss: 0.0857 - accuracy: 0.9865 - val_loss: 0.0763 - val_accuracy: 0.9965\n",
      "Epoch 10/50\n",
      "1250/1250 [==============================] - 5s 4ms/step - loss: 0.0830 - accuracy: 0.9863 - val_loss: 0.0762 - val_accuracy: 0.9882\n",
      "Epoch 11/50\n",
      "1250/1250 [==============================] - 5s 4ms/step - loss: 0.0795 - accuracy: 0.9869 - val_loss: 0.0711 - val_accuracy: 0.9943\n",
      "Epoch 12/50\n",
      "1250/1250 [==============================] - 6s 5ms/step - loss: 0.0778 - accuracy: 0.9859 - val_loss: 0.0679 - val_accuracy: 0.9968\n",
      "Epoch 13/50\n",
      "1250/1250 [==============================] - 6s 5ms/step - loss: 0.0740 - accuracy: 0.9877 - val_loss: 0.0665 - val_accuracy: 0.9935\n",
      "Epoch 14/50\n",
      "1250/1250 [==============================] - 5s 4ms/step - loss: 0.0726 - accuracy: 0.9869 - val_loss: 0.0691 - val_accuracy: 0.9865\n",
      "Epoch 15/50\n",
      "1250/1250 [==============================] - 4s 3ms/step - loss: 0.0701 - accuracy: 0.9883 - val_loss: 0.0690 - val_accuracy: 0.9833\n",
      "Epoch 16/50\n",
      "1250/1250 [==============================] - 5s 4ms/step - loss: 0.0703 - accuracy: 0.9869 - val_loss: 0.0743 - val_accuracy: 0.9799\n",
      "Epoch 17/50\n",
      "1250/1250 [==============================] - 5s 4ms/step - loss: 0.0684 - accuracy: 0.9879 - val_loss: 0.0723 - val_accuracy: 0.9800\n",
      "Epoch 18/50\n",
      "1250/1250 [==============================] - 5s 4ms/step - loss: 0.0666 - accuracy: 0.9873 - val_loss: 0.0587 - val_accuracy: 0.9951\n",
      "Epoch 19/50\n",
      "1250/1250 [==============================] - 5s 4ms/step - loss: 0.0650 - accuracy: 0.9882 - val_loss: 0.0605 - val_accuracy: 0.9884\n",
      "Epoch 20/50\n",
      "1250/1250 [==============================] - 5s 4ms/step - loss: 0.0645 - accuracy: 0.9883 - val_loss: 0.0590 - val_accuracy: 0.9887\n",
      "Epoch 21/50\n",
      "1250/1250 [==============================] - 5s 4ms/step - loss: 0.0621 - accuracy: 0.9891 - val_loss: 0.0666 - val_accuracy: 0.9814\n",
      "Epoch 22/50\n",
      "1250/1250 [==============================] - 5s 4ms/step - loss: 0.0629 - accuracy: 0.9877 - val_loss: 0.0557 - val_accuracy: 0.9927\n",
      "Epoch 23/50\n",
      "1250/1250 [==============================] - 5s 4ms/step - loss: 0.0622 - accuracy: 0.9876 - val_loss: 0.0530 - val_accuracy: 0.9975\n",
      "Epoch 24/50\n",
      "1250/1250 [==============================] - 4s 3ms/step - loss: 0.0626 - accuracy: 0.9873 - val_loss: 0.0547 - val_accuracy: 0.9908\n",
      "Epoch 25/50\n",
      "1250/1250 [==============================] - 4s 4ms/step - loss: 0.0591 - accuracy: 0.9893 - val_loss: 0.0513 - val_accuracy: 0.9981\n",
      "Epoch 26/50\n",
      "1250/1250 [==============================] - 5s 4ms/step - loss: 0.0597 - accuracy: 0.9884 - val_loss: 0.0503 - val_accuracy: 0.9981\n",
      "Epoch 27/50\n",
      "1250/1250 [==============================] - 5s 4ms/step - loss: 0.0598 - accuracy: 0.9876 - val_loss: 0.0614 - val_accuracy: 0.9828\n",
      "Epoch 28/50\n",
      "1250/1250 [==============================] - 5s 4ms/step - loss: 0.0580 - accuracy: 0.9887 - val_loss: 0.0493 - val_accuracy: 0.9972\n",
      "Epoch 29/50\n",
      "1250/1250 [==============================] - 5s 4ms/step - loss: 0.0595 - accuracy: 0.9876 - val_loss: 0.0487 - val_accuracy: 0.9990\n",
      "Epoch 30/50\n",
      "1250/1250 [==============================] - 5s 4ms/step - loss: 0.0584 - accuracy: 0.9885 - val_loss: 0.0518 - val_accuracy: 0.9897\n",
      "Epoch 31/50\n",
      "1250/1250 [==============================] - 5s 4ms/step - loss: 0.0566 - accuracy: 0.9890 - val_loss: 0.0530 - val_accuracy: 0.9884\n",
      "Epoch 32/50\n",
      "1250/1250 [==============================] - 5s 4ms/step - loss: 0.0569 - accuracy: 0.9886 - val_loss: 0.0557 - val_accuracy: 0.9852\n",
      "Epoch 33/50\n",
      "1250/1250 [==============================] - 5s 4ms/step - loss: 0.0554 - accuracy: 0.9895 - val_loss: 0.0469 - val_accuracy: 0.9986\n",
      "Epoch 34/50\n",
      "1250/1250 [==============================] - 4s 3ms/step - loss: 0.0561 - accuracy: 0.9883 - val_loss: 0.0479 - val_accuracy: 0.9945\n",
      "Epoch 35/50\n",
      "1250/1250 [==============================] - 4s 3ms/step - loss: 0.0545 - accuracy: 0.9892 - val_loss: 0.0523 - val_accuracy: 0.9877\n",
      "Epoch 36/50\n",
      "1250/1250 [==============================] - 5s 4ms/step - loss: 0.0551 - accuracy: 0.9885 - val_loss: 0.0460 - val_accuracy: 0.9962\n",
      "Epoch 37/50\n",
      "1250/1250 [==============================] - 4s 4ms/step - loss: 0.0557 - accuracy: 0.9879 - val_loss: 0.0486 - val_accuracy: 0.9923\n",
      "Epoch 38/50\n",
      "1250/1250 [==============================] - 5s 4ms/step - loss: 0.0547 - accuracy: 0.9886 - val_loss: 0.0623 - val_accuracy: 0.9815\n",
      "Epoch 39/50\n",
      "1250/1250 [==============================] - 7s 6ms/step - loss: 0.0529 - accuracy: 0.9891 - val_loss: 0.0442 - val_accuracy: 0.9995\n",
      "Epoch 40/50\n",
      "1250/1250 [==============================] - 9s 7ms/step - loss: 0.0532 - accuracy: 0.9894 - val_loss: 0.0637 - val_accuracy: 0.9798\n",
      "Epoch 41/50\n",
      "1250/1250 [==============================] - 27s 21ms/step - loss: 0.0526 - accuracy: 0.9893 - val_loss: 0.0532 - val_accuracy: 0.9856\n",
      "Epoch 42/50\n",
      "1250/1250 [==============================] - 5s 4ms/step - loss: 0.0538 - accuracy: 0.9883 - val_loss: 0.0436 - val_accuracy: 0.9978\n",
      "Epoch 43/50\n",
      "1250/1250 [==============================] - 10s 8ms/step - loss: 0.0534 - accuracy: 0.9886 - val_loss: 0.0560 - val_accuracy: 0.9830\n",
      "Epoch 44/50\n",
      "1250/1250 [==============================] - 15s 12ms/step - loss: 0.0522 - accuracy: 0.9896 - val_loss: 0.0482 - val_accuracy: 0.9888\n",
      "Epoch 45/50\n",
      "1250/1250 [==============================] - 7s 5ms/step - loss: 0.0513 - accuracy: 0.9894 - val_loss: 0.0452 - val_accuracy: 0.9914\n",
      "Epoch 46/50\n",
      "1250/1250 [==============================] - 6s 5ms/step - loss: 0.0518 - accuracy: 0.9889 - val_loss: 0.0477 - val_accuracy: 0.9890\n",
      "Epoch 47/50\n",
      "1250/1250 [==============================] - 6s 5ms/step - loss: 0.0531 - accuracy: 0.9883 - val_loss: 0.0471 - val_accuracy: 0.9891\n",
      "Epoch 48/50\n",
      "1250/1250 [==============================] - 6s 5ms/step - loss: 0.0525 - accuracy: 0.9886 - val_loss: 0.0431 - val_accuracy: 0.9949\n",
      "Epoch 49/50\n",
      "1250/1250 [==============================] - 6s 5ms/step - loss: 0.0520 - accuracy: 0.9887 - val_loss: 0.0828 - val_accuracy: 0.9715\n",
      "Epoch 50/50\n",
      "1250/1250 [==============================] - 6s 5ms/step - loss: 0.0511 - accuracy: 0.9888 - val_loss: 0.0442 - val_accuracy: 0.9928\n"
     ]
    }
   ],
   "source": [
    "model = keras.Sequential([\n",
    "    layers.Dense(64, activation='relu', kernel_regularizer=regularizers.l2(0.01)),  # L2 Regularization\n",
    "    layers.Dropout(0.3),  # Dropout to prevent overfitting\n",
    "    layers.Dense(32, activation='relu', kernel_regularizer=regularizers.l2(0.01)),\n",
    "    layers.Dropout(0.3),\n",
    "    layers.Dense(1, activation='sigmoid')  # Sigmoid for binary classification\n",
    "])\n",
    "\n",
    "model.compile(optimizer='adam', loss='binary_crossentropy', metrics=['accuracy'])\n",
    "\n",
    "history = model.fit(X_train, y_train, epochs=50, batch_size=32, validation_data=(X_test, y_test))"
   ]
  },
  {
   "cell_type": "markdown",
   "metadata": {},
   "source": [
    "<h2>convert to tflite"
   ]
  },
  {
   "cell_type": "code",
   "execution_count": 30,
   "metadata": {},
   "outputs": [
    {
     "name": "stdout",
     "output_type": "stream",
     "text": [
      "INFO:tensorflow:Assets written to: C:\\Users\\kesha\\AppData\\Local\\Temp\\tmp0x70jhuh\\assets\n"
     ]
    },
    {
     "name": "stderr",
     "output_type": "stream",
     "text": [
      "INFO:tensorflow:Assets written to: C:\\Users\\kesha\\AppData\\Local\\Temp\\tmp0x70jhuh\\assets\n"
     ]
    }
   ],
   "source": [
    "converter = tf.lite.TFLiteConverter.from_keras_model(model)\n",
    "tflite_model = converter.convert()\n",
    "\n",
    "with open(\"peak_hour_model.tflite\", \"wb\") as f:\n",
    "    f.write(tflite_model)"
   ]
  },
  {
   "cell_type": "markdown",
   "metadata": {},
   "source": [
    "<h2>Validate the model"
   ]
  },
  {
   "cell_type": "code",
   "execution_count": 31,
   "metadata": {},
   "outputs": [
    {
     "name": "stdout",
     "output_type": "stream",
     "text": [
      "313/313 [==============================] - 1s 3ms/step - loss: 0.0104 - accuracy: 0.9955\n",
      "Test Accuracy: 0.9955\n"
     ]
    }
   ],
   "source": [
    "loss, accuracy = model.evaluate(X_test, y_test)\n",
    "print(f\"Test Accuracy: {accuracy:.4f}\")"
   ]
  },
  {
   "cell_type": "markdown",
   "metadata": {},
   "source": [
    "Your model is performing exceptionally well, achieving **100% accuracy on both the training and validation sets**. However, this might indicate **overfitting** rather than actual generalization. Here’s what you can do:\n",
    "\n",
    "### 🔍 **Possible Issues:**\n",
    "1. **Overfitting**  \n",
    "   - The loss and accuracy suggest that your model has memorized the training data rather than learning general patterns.\n",
    "2. **Data Imbalance**  \n",
    "   - If one class (peak vs. non-peak) dominates, the model may just predict the majority class.\n",
    "3. **Model Simplicity**  \n",
    "   - If the problem is simple, a deep learning model might be overkill. Try logistic regression or decision trees.\n",
    "\n",
    "---\n",
    "\n",
    "### 🛠 **How to Improve the Model:**\n",
    "1. **Introduce Regularization:**\n",
    "   - Add **Dropout** layers (e.g., `Dropout(0.3)`)\n",
    "   - Use **L2 regularization** (`kernel_regularizer=l2(0.001)`)\n",
    "2. **Augment Data or Balance Classes:**\n",
    "   - Check if the dataset is balanced. If not, try **SMOTE (Synthetic Minority Over-sampling Technique)**.\n",
    "3. **Reduce Model Complexity:**\n",
    "   - Use fewer layers or fewer neurons per layer.\n",
    "4. **Early Stopping:**  \n",
    "   - Stop training when validation loss stops decreasing.\n",
    "   ```python\n",
    "   from tensorflow.keras.callbacks import EarlyStopping\n",
    "   early_stop = EarlyStopping(monitor='val_loss', patience=3, restore_best_weights=True)\n",
    "   ```\n",
    "5. **Try Simpler Models:**  \n",
    "   - A decision tree or random forest could work well for structured data.\n",
    "\n",
    "Would you like me to modify the model and rerun it? 🚀"
   ]
  },
  {
   "cell_type": "markdown",
   "metadata": {},
   "source": [
    "Better Alternative (Let Model Learn Peak Hours)\n",
    "Instead of defining \"Peak_Hour\" manually, train a model without explicitly adding it:\n",
    "\n",
    "df['Hour'] = pd.to_datetime(df['Timestamp']).dt.hour  # Extract hour from timestamp\n",
    "df = df[['Voltage (V)', 'Current (A)', 'Power Consumption (kW)', 'Hour']]\n",
    "\n",
    "X = df  # No need to drop anything\n",
    "y = (df['Power Consumption (kW)'] > df['Power Consumption (kW)'].quantile(0.75)).astype(int)  \n",
    "# Peak hour = Top 25% power usage\n",
    "\n",
    "scaler = MinMaxScaler()\n",
    "X_scaled = scaler.fit_transform(X)\n"
   ]
  }
 ],
 "metadata": {
  "kernelspec": {
   "display_name": "Python 3",
   "language": "python",
   "name": "python3"
  },
  "language_info": {
   "codemirror_mode": {
    "name": "ipython",
    "version": 3
   },
   "file_extension": ".py",
   "mimetype": "text/x-python",
   "name": "python",
   "nbconvert_exporter": "python",
   "pygments_lexer": "ipython3",
   "version": "3.10.9"
  }
 },
 "nbformat": 4,
 "nbformat_minor": 2
}
